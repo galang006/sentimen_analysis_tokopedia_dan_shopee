{
 "cells": [
  {
   "cell_type": "code",
   "execution_count": 5,
   "id": "60cda825",
   "metadata": {},
   "outputs": [],
   "source": [
    "import pandas as pd\n",
    "import re"
   ]
  },
  {
   "cell_type": "code",
   "execution_count": 2,
   "id": "9d7e3caa",
   "metadata": {},
   "outputs": [
    {
     "data": {
      "text/html": [
       "<div>\n",
       "<style scoped>\n",
       "    .dataframe tbody tr th:only-of-type {\n",
       "        vertical-align: middle;\n",
       "    }\n",
       "\n",
       "    .dataframe tbody tr th {\n",
       "        vertical-align: top;\n",
       "    }\n",
       "\n",
       "    .dataframe thead th {\n",
       "        text-align: right;\n",
       "    }\n",
       "</style>\n",
       "<table border=\"1\" class=\"dataframe\">\n",
       "  <thead>\n",
       "    <tr style=\"text-align: right;\">\n",
       "      <th></th>\n",
       "      <th>Date</th>\n",
       "      <th>Rating</th>\n",
       "      <th>Review</th>\n",
       "    </tr>\n",
       "  </thead>\n",
       "  <tbody>\n",
       "    <tr>\n",
       "      <th>0</th>\n",
       "      <td>3 Juni 2025</td>\n",
       "      <td>3</td>\n",
       "      <td>3 juni 2025 ada bug dimana saat menghapus daft...</td>\n",
       "    </tr>\n",
       "    <tr>\n",
       "      <th>1</th>\n",
       "      <td>2 Juni 2025</td>\n",
       "      <td>1</td>\n",
       "      <td>Semenjak Tokopedia di bawah naungan Tiktok, ma...</td>\n",
       "    </tr>\n",
       "    <tr>\n",
       "      <th>2</th>\n",
       "      <td>3 Juni 2025</td>\n",
       "      <td>5</td>\n",
       "      <td>Buyers jangan ragu adanya pembatalan sistem to...</td>\n",
       "    </tr>\n",
       "    <tr>\n",
       "      <th>3</th>\n",
       "      <td>3 Juni 2025</td>\n",
       "      <td>4</td>\n",
       "      <td>Keren, ini app skrg bisa jalan lg di hp gw yg ...</td>\n",
       "    </tr>\n",
       "    <tr>\n",
       "      <th>4</th>\n",
       "      <td>1 Juni 2025</td>\n",
       "      <td>5</td>\n",
       "      <td>aplikasi yang menyediakan barang² bagus saya s...</td>\n",
       "    </tr>\n",
       "  </tbody>\n",
       "</table>\n",
       "</div>"
      ],
      "text/plain": [
       "          Date  Rating                                             Review\n",
       "0  3 Juni 2025       3  3 juni 2025 ada bug dimana saat menghapus daft...\n",
       "1  2 Juni 2025       1  Semenjak Tokopedia di bawah naungan Tiktok, ma...\n",
       "2  3 Juni 2025       5  Buyers jangan ragu adanya pembatalan sistem to...\n",
       "3  3 Juni 2025       4  Keren, ini app skrg bisa jalan lg di hp gw yg ...\n",
       "4  1 Juni 2025       5  aplikasi yang menyediakan barang² bagus saya s..."
      ]
     },
     "execution_count": 2,
     "metadata": {},
     "output_type": "execute_result"
    }
   ],
   "source": [
    "tokped = pd.read_csv(\"dataset/tokopedia_reviews.csv\", encoding=\"utf-8\")\n",
    "tokped.head()"
   ]
  },
  {
   "cell_type": "code",
   "execution_count": 30,
   "id": "9ac74b1f",
   "metadata": {},
   "outputs": [
    {
     "data": {
      "text/html": [
       "<div>\n",
       "<style scoped>\n",
       "    .dataframe tbody tr th:only-of-type {\n",
       "        vertical-align: middle;\n",
       "    }\n",
       "\n",
       "    .dataframe tbody tr th {\n",
       "        vertical-align: top;\n",
       "    }\n",
       "\n",
       "    .dataframe thead th {\n",
       "        text-align: right;\n",
       "    }\n",
       "</style>\n",
       "<table border=\"1\" class=\"dataframe\">\n",
       "  <thead>\n",
       "    <tr style=\"text-align: right;\">\n",
       "      <th></th>\n",
       "      <th>Rating</th>\n",
       "    </tr>\n",
       "  </thead>\n",
       "  <tbody>\n",
       "    <tr>\n",
       "      <th>count</th>\n",
       "      <td>3680.000000</td>\n",
       "    </tr>\n",
       "    <tr>\n",
       "      <th>mean</th>\n",
       "      <td>2.114402</td>\n",
       "    </tr>\n",
       "    <tr>\n",
       "      <th>std</th>\n",
       "      <td>1.537502</td>\n",
       "    </tr>\n",
       "    <tr>\n",
       "      <th>min</th>\n",
       "      <td>1.000000</td>\n",
       "    </tr>\n",
       "    <tr>\n",
       "      <th>25%</th>\n",
       "      <td>1.000000</td>\n",
       "    </tr>\n",
       "    <tr>\n",
       "      <th>50%</th>\n",
       "      <td>1.000000</td>\n",
       "    </tr>\n",
       "    <tr>\n",
       "      <th>75%</th>\n",
       "      <td>3.000000</td>\n",
       "    </tr>\n",
       "    <tr>\n",
       "      <th>max</th>\n",
       "      <td>5.000000</td>\n",
       "    </tr>\n",
       "  </tbody>\n",
       "</table>\n",
       "</div>"
      ],
      "text/plain": [
       "            Rating\n",
       "count  3680.000000\n",
       "mean      2.114402\n",
       "std       1.537502\n",
       "min       1.000000\n",
       "25%       1.000000\n",
       "50%       1.000000\n",
       "75%       3.000000\n",
       "max       5.000000"
      ]
     },
     "execution_count": 30,
     "metadata": {},
     "output_type": "execute_result"
    }
   ],
   "source": [
    "tokped.describe()"
   ]
  },
  {
   "cell_type": "code",
   "execution_count": 31,
   "id": "0adc7e89",
   "metadata": {},
   "outputs": [
    {
     "name": "stdout",
     "output_type": "stream",
     "text": [
      "<class 'pandas.core.frame.DataFrame'>\n",
      "RangeIndex: 3680 entries, 0 to 3679\n",
      "Data columns (total 3 columns):\n",
      " #   Column  Non-Null Count  Dtype \n",
      "---  ------  --------------  ----- \n",
      " 0   Date    3680 non-null   object\n",
      " 1   Rating  3680 non-null   int64 \n",
      " 2   Review  3680 non-null   object\n",
      "dtypes: int64(1), object(2)\n",
      "memory usage: 86.4+ KB\n"
     ]
    }
   ],
   "source": [
    "tokped.info()"
   ]
  },
  {
   "cell_type": "code",
   "execution_count": 32,
   "id": "50434933",
   "metadata": {},
   "outputs": [
    {
     "data": {
      "text/plain": [
       "Date      0\n",
       "Rating    0\n",
       "Review    0\n",
       "dtype: int64"
      ]
     },
     "execution_count": 32,
     "metadata": {},
     "output_type": "execute_result"
    }
   ],
   "source": [
    "tokped.isna().sum()"
   ]
  },
  {
   "cell_type": "code",
   "execution_count": 33,
   "id": "7e65f8e8",
   "metadata": {},
   "outputs": [
    {
     "data": {
      "text/plain": [
       "Date      0\n",
       "Rating    0\n",
       "Review    0\n",
       "dtype: int64"
      ]
     },
     "execution_count": 33,
     "metadata": {},
     "output_type": "execute_result"
    }
   ],
   "source": [
    "tokped.isnull().sum()"
   ]
  },
  {
   "cell_type": "code",
   "execution_count": 34,
   "id": "77c5caf4",
   "metadata": {},
   "outputs": [
    {
     "data": {
      "text/plain": [
       "0"
      ]
     },
     "execution_count": 34,
     "metadata": {},
     "output_type": "execute_result"
    }
   ],
   "source": [
    "tokped.duplicated().sum()"
   ]
  },
  {
   "cell_type": "code",
   "execution_count": 17,
   "id": "ca5ad6f3",
   "metadata": {},
   "outputs": [
    {
     "data": {
      "text/html": [
       "<div>\n",
       "<style scoped>\n",
       "    .dataframe tbody tr th:only-of-type {\n",
       "        vertical-align: middle;\n",
       "    }\n",
       "\n",
       "    .dataframe tbody tr th {\n",
       "        vertical-align: top;\n",
       "    }\n",
       "\n",
       "    .dataframe thead th {\n",
       "        text-align: right;\n",
       "    }\n",
       "</style>\n",
       "<table border=\"1\" class=\"dataframe\">\n",
       "  <thead>\n",
       "    <tr style=\"text-align: right;\">\n",
       "      <th></th>\n",
       "      <th>Date</th>\n",
       "      <th>Rating</th>\n",
       "      <th>Review</th>\n",
       "    </tr>\n",
       "  </thead>\n",
       "  <tbody>\n",
       "    <tr>\n",
       "      <th>0</th>\n",
       "      <td>3 Juni 2025</td>\n",
       "      <td>2</td>\n",
       "      <td>Mohon dipertimbangkan agar tampilan awal aplik...</td>\n",
       "    </tr>\n",
       "    <tr>\n",
       "      <th>1</th>\n",
       "      <td>2 Juni 2025</td>\n",
       "      <td>3</td>\n",
       "      <td>sebenarnya suka sama aplikasinya, cuman keseri...</td>\n",
       "    </tr>\n",
       "    <tr>\n",
       "      <th>2</th>\n",
       "      <td>3 Juni 2025</td>\n",
       "      <td>1</td>\n",
       "      <td>Awal nya enak pengiriman cepat pakai J&amp;T, seka...</td>\n",
       "    </tr>\n",
       "    <tr>\n",
       "      <th>3</th>\n",
       "      <td>2 Juni 2025</td>\n",
       "      <td>4</td>\n",
       "      <td>Aplikasinya sih simple cuma yg sedikit saya ti...</td>\n",
       "    </tr>\n",
       "    <tr>\n",
       "      <th>4</th>\n",
       "      <td>2 Juni 2025</td>\n",
       "      <td>1</td>\n",
       "      <td>Kenapa sekarang2 setiap buka aplikasi Shopee s...</td>\n",
       "    </tr>\n",
       "  </tbody>\n",
       "</table>\n",
       "</div>"
      ],
      "text/plain": [
       "          Date  Rating                                             Review\n",
       "0  3 Juni 2025       2  Mohon dipertimbangkan agar tampilan awal aplik...\n",
       "1  2 Juni 2025       3  sebenarnya suka sama aplikasinya, cuman keseri...\n",
       "2  3 Juni 2025       1  Awal nya enak pengiriman cepat pakai J&T, seka...\n",
       "3  2 Juni 2025       4  Aplikasinya sih simple cuma yg sedikit saya ti...\n",
       "4  2 Juni 2025       1  Kenapa sekarang2 setiap buka aplikasi Shopee s..."
      ]
     },
     "execution_count": 17,
     "metadata": {},
     "output_type": "execute_result"
    }
   ],
   "source": [
    "shopee = pd.read_csv(\"shopee_reviews.csv\", encoding=\"utf-8\")\n",
    "shopee.head()"
   ]
  },
  {
   "cell_type": "code",
   "execution_count": 19,
   "id": "4a46d3f9",
   "metadata": {},
   "outputs": [
    {
     "data": {
      "text/html": [
       "<div>\n",
       "<style scoped>\n",
       "    .dataframe tbody tr th:only-of-type {\n",
       "        vertical-align: middle;\n",
       "    }\n",
       "\n",
       "    .dataframe tbody tr th {\n",
       "        vertical-align: top;\n",
       "    }\n",
       "\n",
       "    .dataframe thead th {\n",
       "        text-align: right;\n",
       "    }\n",
       "</style>\n",
       "<table border=\"1\" class=\"dataframe\">\n",
       "  <thead>\n",
       "    <tr style=\"text-align: right;\">\n",
       "      <th></th>\n",
       "      <th>Rating</th>\n",
       "    </tr>\n",
       "  </thead>\n",
       "  <tbody>\n",
       "    <tr>\n",
       "      <th>count</th>\n",
       "      <td>3800.000000</td>\n",
       "    </tr>\n",
       "    <tr>\n",
       "      <th>mean</th>\n",
       "      <td>3.028684</td>\n",
       "    </tr>\n",
       "    <tr>\n",
       "      <th>std</th>\n",
       "      <td>1.746796</td>\n",
       "    </tr>\n",
       "    <tr>\n",
       "      <th>min</th>\n",
       "      <td>1.000000</td>\n",
       "    </tr>\n",
       "    <tr>\n",
       "      <th>25%</th>\n",
       "      <td>1.000000</td>\n",
       "    </tr>\n",
       "    <tr>\n",
       "      <th>50%</th>\n",
       "      <td>3.000000</td>\n",
       "    </tr>\n",
       "    <tr>\n",
       "      <th>75%</th>\n",
       "      <td>5.000000</td>\n",
       "    </tr>\n",
       "    <tr>\n",
       "      <th>max</th>\n",
       "      <td>5.000000</td>\n",
       "    </tr>\n",
       "  </tbody>\n",
       "</table>\n",
       "</div>"
      ],
      "text/plain": [
       "            Rating\n",
       "count  3800.000000\n",
       "mean      3.028684\n",
       "std       1.746796\n",
       "min       1.000000\n",
       "25%       1.000000\n",
       "50%       3.000000\n",
       "75%       5.000000\n",
       "max       5.000000"
      ]
     },
     "execution_count": 19,
     "metadata": {},
     "output_type": "execute_result"
    }
   ],
   "source": [
    "shopee.describe()"
   ]
  },
  {
   "cell_type": "code",
   "execution_count": 20,
   "id": "af7d416d",
   "metadata": {},
   "outputs": [
    {
     "name": "stdout",
     "output_type": "stream",
     "text": [
      "<class 'pandas.core.frame.DataFrame'>\n",
      "RangeIndex: 3800 entries, 0 to 3799\n",
      "Data columns (total 3 columns):\n",
      " #   Column  Non-Null Count  Dtype \n",
      "---  ------  --------------  ----- \n",
      " 0   Date    3800 non-null   object\n",
      " 1   Rating  3800 non-null   int64 \n",
      " 2   Review  3800 non-null   object\n",
      "dtypes: int64(1), object(2)\n",
      "memory usage: 89.2+ KB\n"
     ]
    }
   ],
   "source": [
    "shopee.info()"
   ]
  },
  {
   "cell_type": "code",
   "execution_count": 21,
   "id": "7eef3eca",
   "metadata": {},
   "outputs": [
    {
     "data": {
      "text/plain": [
       "Date      0\n",
       "Rating    0\n",
       "Review    0\n",
       "dtype: int64"
      ]
     },
     "execution_count": 21,
     "metadata": {},
     "output_type": "execute_result"
    }
   ],
   "source": [
    "shopee.isna().sum()"
   ]
  },
  {
   "cell_type": "code",
   "execution_count": 35,
   "id": "c618f65d",
   "metadata": {},
   "outputs": [
    {
     "data": {
      "text/plain": [
       "0"
      ]
     },
     "execution_count": 35,
     "metadata": {},
     "output_type": "execute_result"
    }
   ],
   "source": [
    "shopee.duplicated().sum()"
   ]
  },
  {
   "cell_type": "code",
   "execution_count": 41,
   "id": "b4bc17d8",
   "metadata": {},
   "outputs": [],
   "source": [
    "tokped['Platform'] = 'tokopedia'  # Ganti sesuai nama platform aslinya\n",
    "shopee['Platform'] = 'shopee'"
   ]
  },
  {
   "cell_type": "code",
   "execution_count": 43,
   "id": "9a15744d",
   "metadata": {},
   "outputs": [
    {
     "data": {
      "text/html": [
       "<div>\n",
       "<style scoped>\n",
       "    .dataframe tbody tr th:only-of-type {\n",
       "        vertical-align: middle;\n",
       "    }\n",
       "\n",
       "    .dataframe tbody tr th {\n",
       "        vertical-align: top;\n",
       "    }\n",
       "\n",
       "    .dataframe thead th {\n",
       "        text-align: right;\n",
       "    }\n",
       "</style>\n",
       "<table border=\"1\" class=\"dataframe\">\n",
       "  <thead>\n",
       "    <tr style=\"text-align: right;\">\n",
       "      <th></th>\n",
       "      <th>Date</th>\n",
       "      <th>Rating</th>\n",
       "      <th>Review</th>\n",
       "      <th>Platform</th>\n",
       "    </tr>\n",
       "  </thead>\n",
       "  <tbody>\n",
       "    <tr>\n",
       "      <th>0</th>\n",
       "      <td>3 Juni 2025</td>\n",
       "      <td>2</td>\n",
       "      <td>Mohon dipertimbangkan agar tampilan awal aplik...</td>\n",
       "      <td>shopee</td>\n",
       "    </tr>\n",
       "    <tr>\n",
       "      <th>1</th>\n",
       "      <td>2 Juni 2025</td>\n",
       "      <td>3</td>\n",
       "      <td>sebenarnya suka sama aplikasinya, cuman keseri...</td>\n",
       "      <td>shopee</td>\n",
       "    </tr>\n",
       "    <tr>\n",
       "      <th>2</th>\n",
       "      <td>3 Juni 2025</td>\n",
       "      <td>1</td>\n",
       "      <td>Awal nya enak pengiriman cepat pakai J&amp;T, seka...</td>\n",
       "      <td>shopee</td>\n",
       "    </tr>\n",
       "    <tr>\n",
       "      <th>3</th>\n",
       "      <td>2 Juni 2025</td>\n",
       "      <td>4</td>\n",
       "      <td>Aplikasinya sih simple cuma yg sedikit saya ti...</td>\n",
       "      <td>shopee</td>\n",
       "    </tr>\n",
       "    <tr>\n",
       "      <th>4</th>\n",
       "      <td>2 Juni 2025</td>\n",
       "      <td>1</td>\n",
       "      <td>Kenapa sekarang2 setiap buka aplikasi Shopee s...</td>\n",
       "      <td>shopee</td>\n",
       "    </tr>\n",
       "  </tbody>\n",
       "</table>\n",
       "</div>"
      ],
      "text/plain": [
       "          Date  Rating                                             Review  \\\n",
       "0  3 Juni 2025       2  Mohon dipertimbangkan agar tampilan awal aplik...   \n",
       "1  2 Juni 2025       3  sebenarnya suka sama aplikasinya, cuman keseri...   \n",
       "2  3 Juni 2025       1  Awal nya enak pengiriman cepat pakai J&T, seka...   \n",
       "3  2 Juni 2025       4  Aplikasinya sih simple cuma yg sedikit saya ti...   \n",
       "4  2 Juni 2025       1  Kenapa sekarang2 setiap buka aplikasi Shopee s...   \n",
       "\n",
       "  Platform  \n",
       "0   shopee  \n",
       "1   shopee  \n",
       "2   shopee  \n",
       "3   shopee  \n",
       "4   shopee  "
      ]
     },
     "execution_count": 43,
     "metadata": {},
     "output_type": "execute_result"
    }
   ],
   "source": [
    "shopee.head()"
   ]
  },
  {
   "cell_type": "code",
   "execution_count": 44,
   "id": "5c15c32e",
   "metadata": {},
   "outputs": [
    {
     "data": {
      "text/html": [
       "<div>\n",
       "<style scoped>\n",
       "    .dataframe tbody tr th:only-of-type {\n",
       "        vertical-align: middle;\n",
       "    }\n",
       "\n",
       "    .dataframe tbody tr th {\n",
       "        vertical-align: top;\n",
       "    }\n",
       "\n",
       "    .dataframe thead th {\n",
       "        text-align: right;\n",
       "    }\n",
       "</style>\n",
       "<table border=\"1\" class=\"dataframe\">\n",
       "  <thead>\n",
       "    <tr style=\"text-align: right;\">\n",
       "      <th></th>\n",
       "      <th>Date</th>\n",
       "      <th>Rating</th>\n",
       "      <th>Review</th>\n",
       "      <th>Platform</th>\n",
       "    </tr>\n",
       "  </thead>\n",
       "  <tbody>\n",
       "    <tr>\n",
       "      <th>0</th>\n",
       "      <td>3 Juni 2025</td>\n",
       "      <td>3</td>\n",
       "      <td>3 juni 2025 ada bug dimana saat menghapus daft...</td>\n",
       "      <td>tokopedia</td>\n",
       "    </tr>\n",
       "    <tr>\n",
       "      <th>1</th>\n",
       "      <td>2 Juni 2025</td>\n",
       "      <td>1</td>\n",
       "      <td>Semenjak Tokopedia di bawah naungan Tiktok, ma...</td>\n",
       "      <td>tokopedia</td>\n",
       "    </tr>\n",
       "    <tr>\n",
       "      <th>2</th>\n",
       "      <td>3 Juni 2025</td>\n",
       "      <td>5</td>\n",
       "      <td>Buyers jangan ragu adanya pembatalan sistem to...</td>\n",
       "      <td>tokopedia</td>\n",
       "    </tr>\n",
       "    <tr>\n",
       "      <th>3</th>\n",
       "      <td>3 Juni 2025</td>\n",
       "      <td>4</td>\n",
       "      <td>Keren, ini app skrg bisa jalan lg di hp gw yg ...</td>\n",
       "      <td>tokopedia</td>\n",
       "    </tr>\n",
       "    <tr>\n",
       "      <th>4</th>\n",
       "      <td>1 Juni 2025</td>\n",
       "      <td>5</td>\n",
       "      <td>aplikasi yang menyediakan barang² bagus saya s...</td>\n",
       "      <td>tokopedia</td>\n",
       "    </tr>\n",
       "  </tbody>\n",
       "</table>\n",
       "</div>"
      ],
      "text/plain": [
       "          Date  Rating                                             Review  \\\n",
       "0  3 Juni 2025       3  3 juni 2025 ada bug dimana saat menghapus daft...   \n",
       "1  2 Juni 2025       1  Semenjak Tokopedia di bawah naungan Tiktok, ma...   \n",
       "2  3 Juni 2025       5  Buyers jangan ragu adanya pembatalan sistem to...   \n",
       "3  3 Juni 2025       4  Keren, ini app skrg bisa jalan lg di hp gw yg ...   \n",
       "4  1 Juni 2025       5  aplikasi yang menyediakan barang² bagus saya s...   \n",
       "\n",
       "    Platform  \n",
       "0  tokopedia  \n",
       "1  tokopedia  \n",
       "2  tokopedia  \n",
       "3  tokopedia  \n",
       "4  tokopedia  "
      ]
     },
     "execution_count": 44,
     "metadata": {},
     "output_type": "execute_result"
    }
   ],
   "source": [
    "olshop = pd.concat([tokped, shopee], ignore_index=True)\n",
    "\n",
    "olshop.head()"
   ]
  },
  {
   "cell_type": "code",
   "execution_count": 47,
   "id": "82a1e2e3",
   "metadata": {},
   "outputs": [
    {
     "name": "stdout",
     "output_type": "stream",
     "text": [
      "Rating\n",
      "1    3474\n",
      "5    1987\n",
      "2     755\n",
      "3     685\n",
      "4     579\n",
      "Name: count, dtype: int64\n"
     ]
    }
   ],
   "source": [
    "print(olshop['Rating'].value_counts())"
   ]
  },
  {
   "cell_type": "code",
   "execution_count": 48,
   "id": "78b9440d",
   "metadata": {},
   "outputs": [
    {
     "name": "stdout",
     "output_type": "stream",
     "text": [
      "count    7480.000000\n",
      "mean      239.116711\n",
      "std       118.093633\n",
      "min        19.000000\n",
      "25%       151.000000\n",
      "50%       214.000000\n",
      "75%       307.000000\n",
      "max       500.000000\n",
      "Name: Review, dtype: float64\n"
     ]
    }
   ],
   "source": [
    "print(olshop['Review'].str.len().describe())"
   ]
  },
  {
   "cell_type": "code",
   "execution_count": 49,
   "id": "38c82e52",
   "metadata": {},
   "outputs": [],
   "source": [
    "def label_sentiment(rating):\n",
    "    if rating >= 4:\n",
    "        return 'positif'\n",
    "    elif rating == 3:\n",
    "        return 'netral'\n",
    "    else:\n",
    "        return 'negatif'"
   ]
  },
  {
   "cell_type": "code",
   "execution_count": null,
   "id": "d67eca54",
   "metadata": {},
   "outputs": [],
   "source": [
    "olshop['Sentimen_Star'] = olshop['Rating'].apply(label_sentiment)"
   ]
  },
  {
   "cell_type": "code",
   "execution_count": 51,
   "id": "2c5f43a7",
   "metadata": {},
   "outputs": [
    {
     "data": {
      "text/html": [
       "<div>\n",
       "<style scoped>\n",
       "    .dataframe tbody tr th:only-of-type {\n",
       "        vertical-align: middle;\n",
       "    }\n",
       "\n",
       "    .dataframe tbody tr th {\n",
       "        vertical-align: top;\n",
       "    }\n",
       "\n",
       "    .dataframe thead th {\n",
       "        text-align: right;\n",
       "    }\n",
       "</style>\n",
       "<table border=\"1\" class=\"dataframe\">\n",
       "  <thead>\n",
       "    <tr style=\"text-align: right;\">\n",
       "      <th></th>\n",
       "      <th>Date</th>\n",
       "      <th>Rating</th>\n",
       "      <th>Review</th>\n",
       "      <th>Platform</th>\n",
       "      <th>Sentimen</th>\n",
       "    </tr>\n",
       "  </thead>\n",
       "  <tbody>\n",
       "    <tr>\n",
       "      <th>0</th>\n",
       "      <td>3 Juni 2025</td>\n",
       "      <td>3</td>\n",
       "      <td>3 juni 2025 ada bug dimana saat menghapus daft...</td>\n",
       "      <td>tokopedia</td>\n",
       "      <td>netral</td>\n",
       "    </tr>\n",
       "    <tr>\n",
       "      <th>1</th>\n",
       "      <td>2 Juni 2025</td>\n",
       "      <td>1</td>\n",
       "      <td>Semenjak Tokopedia di bawah naungan Tiktok, ma...</td>\n",
       "      <td>tokopedia</td>\n",
       "      <td>negatif</td>\n",
       "    </tr>\n",
       "    <tr>\n",
       "      <th>2</th>\n",
       "      <td>3 Juni 2025</td>\n",
       "      <td>5</td>\n",
       "      <td>Buyers jangan ragu adanya pembatalan sistem to...</td>\n",
       "      <td>tokopedia</td>\n",
       "      <td>positif</td>\n",
       "    </tr>\n",
       "    <tr>\n",
       "      <th>3</th>\n",
       "      <td>3 Juni 2025</td>\n",
       "      <td>4</td>\n",
       "      <td>Keren, ini app skrg bisa jalan lg di hp gw yg ...</td>\n",
       "      <td>tokopedia</td>\n",
       "      <td>positif</td>\n",
       "    </tr>\n",
       "    <tr>\n",
       "      <th>4</th>\n",
       "      <td>1 Juni 2025</td>\n",
       "      <td>5</td>\n",
       "      <td>aplikasi yang menyediakan barang² bagus saya s...</td>\n",
       "      <td>tokopedia</td>\n",
       "      <td>positif</td>\n",
       "    </tr>\n",
       "  </tbody>\n",
       "</table>\n",
       "</div>"
      ],
      "text/plain": [
       "          Date  Rating                                             Review  \\\n",
       "0  3 Juni 2025       3  3 juni 2025 ada bug dimana saat menghapus daft...   \n",
       "1  2 Juni 2025       1  Semenjak Tokopedia di bawah naungan Tiktok, ma...   \n",
       "2  3 Juni 2025       5  Buyers jangan ragu adanya pembatalan sistem to...   \n",
       "3  3 Juni 2025       4  Keren, ini app skrg bisa jalan lg di hp gw yg ...   \n",
       "4  1 Juni 2025       5  aplikasi yang menyediakan barang² bagus saya s...   \n",
       "\n",
       "    Platform Sentimen  \n",
       "0  tokopedia   netral  \n",
       "1  tokopedia  negatif  \n",
       "2  tokopedia  positif  \n",
       "3  tokopedia  positif  \n",
       "4  tokopedia  positif  "
      ]
     },
     "execution_count": 51,
     "metadata": {},
     "output_type": "execute_result"
    }
   ],
   "source": [
    "olshop.head()"
   ]
  },
  {
   "cell_type": "code",
   "execution_count": 89,
   "id": "5fcedf84",
   "metadata": {},
   "outputs": [],
   "source": [
    "from Sastrawi.StopWordRemover.StopWordRemoverFactory import StopWordRemoverFactory\n",
    "from Sastrawi.Stemmer.StemmerFactory import StemmerFactory\n",
    "import re\n",
    "\n",
    "factory = StopWordRemoverFactory()\n",
    "stopwords = factory.get_stop_words()\n",
    "stemmer = StemmerFactory().create_stemmer()\n",
    "\n",
    "def clean_text(text):\n",
    "    text = text.lower()\n",
    "    text = re.sub(r'[^a-zA-Z\\s]', '', text)\n",
    "    words = text.split()\n",
    "    words = [word for word in words if word not in stopwords]\n",
    "    return ' '.join([stemmer.stem(word) for word in words])\n"
   ]
  },
  {
   "cell_type": "code",
   "execution_count": null,
   "id": "4568eefd",
   "metadata": {},
   "outputs": [],
   "source": [
    "olshop['clean_review'] = olshop['Review'].apply(clean_text)"
   ]
  },
  {
   "cell_type": "code",
   "execution_count": 62,
   "id": "279d4362",
   "metadata": {},
   "outputs": [
    {
     "data": {
      "text/plain": [
       "0       juni bug hapus daftar barang keranjang langsun...\n",
       "1       semenjak tokopedia bawah naung tiktok makin am...\n",
       "2       buyers jangan ragu ada batal sistem tokopedia ...\n",
       "3       keren app skrg jalan lg hp gw yg android kadan...\n",
       "4       aplikasi sedia barang bagus selaku guna tuju s...\n",
       "                              ...                        \n",
       "7475    alhamdulillah shopee tetep jaga nyaman aman cu...\n",
       "7476    aplikasi shoppe sekarang banyak bug nya masa b...\n",
       "7477    aplikasi nya makin kesini malah makin sering e...\n",
       "7478    si pas masuk shoope langsung shoope video mana...\n",
       "7479    dulu shoppe cukup bagus cepatskrg makin parah ...\n",
       "Name: clean_review, Length: 7480, dtype: object"
      ]
     },
     "execution_count": 62,
     "metadata": {},
     "output_type": "execute_result"
    }
   ],
   "source": [
    "olshop['clean_review']"
   ]
  },
  {
   "cell_type": "code",
   "execution_count": 63,
   "id": "f03dc1bc",
   "metadata": {},
   "outputs": [
    {
     "data": {
      "text/html": [
       "<div>\n",
       "<style scoped>\n",
       "    .dataframe tbody tr th:only-of-type {\n",
       "        vertical-align: middle;\n",
       "    }\n",
       "\n",
       "    .dataframe tbody tr th {\n",
       "        vertical-align: top;\n",
       "    }\n",
       "\n",
       "    .dataframe thead th {\n",
       "        text-align: right;\n",
       "    }\n",
       "</style>\n",
       "<table border=\"1\" class=\"dataframe\">\n",
       "  <thead>\n",
       "    <tr style=\"text-align: right;\">\n",
       "      <th></th>\n",
       "    </tr>\n",
       "  </thead>\n",
       "  <tbody>\n",
       "  </tbody>\n",
       "</table>\n",
       "</div>"
      ],
      "text/plain": [
       "Empty DataFrame\n",
       "Columns: []\n",
       "Index: []"
      ]
     },
     "execution_count": 63,
     "metadata": {},
     "output_type": "execute_result"
    }
   ],
   "source": [
    "pd.DataFrame(olshop.to_csv(\"olshop_reviews.csv\", index=False, encoding=\"utf-8\"))"
   ]
  },
  {
   "cell_type": "code",
   "execution_count": 3,
   "id": "9adc503c",
   "metadata": {},
   "outputs": [],
   "source": [
    "olshop = pd.read_csv(\"dataset/olshop_reviews.csv\", encoding=\"utf-8\")"
   ]
  },
  {
   "cell_type": "code",
   "execution_count": 4,
   "id": "0445dba3",
   "metadata": {},
   "outputs": [
    {
     "data": {
      "text/html": [
       "<div>\n",
       "<style scoped>\n",
       "    .dataframe tbody tr th:only-of-type {\n",
       "        vertical-align: middle;\n",
       "    }\n",
       "\n",
       "    .dataframe tbody tr th {\n",
       "        vertical-align: top;\n",
       "    }\n",
       "\n",
       "    .dataframe thead th {\n",
       "        text-align: right;\n",
       "    }\n",
       "</style>\n",
       "<table border=\"1\" class=\"dataframe\">\n",
       "  <thead>\n",
       "    <tr style=\"text-align: right;\">\n",
       "      <th></th>\n",
       "      <th>Date</th>\n",
       "      <th>Rating</th>\n",
       "      <th>Review</th>\n",
       "      <th>Platform</th>\n",
       "      <th>Sentimen</th>\n",
       "      <th>clean_review</th>\n",
       "    </tr>\n",
       "  </thead>\n",
       "  <tbody>\n",
       "    <tr>\n",
       "      <th>0</th>\n",
       "      <td>3 Juni 2025</td>\n",
       "      <td>3</td>\n",
       "      <td>3 juni 2025 ada bug dimana saat menghapus daft...</td>\n",
       "      <td>tokopedia</td>\n",
       "      <td>netral</td>\n",
       "      <td>juni bug hapus daftar barang keranjang langsun...</td>\n",
       "    </tr>\n",
       "    <tr>\n",
       "      <th>1</th>\n",
       "      <td>2 Juni 2025</td>\n",
       "      <td>1</td>\n",
       "      <td>Semenjak Tokopedia di bawah naungan Tiktok, ma...</td>\n",
       "      <td>tokopedia</td>\n",
       "      <td>negatif</td>\n",
       "      <td>semenjak tokopedia bawah naung tiktok makin am...</td>\n",
       "    </tr>\n",
       "    <tr>\n",
       "      <th>2</th>\n",
       "      <td>3 Juni 2025</td>\n",
       "      <td>5</td>\n",
       "      <td>Buyers jangan ragu adanya pembatalan sistem to...</td>\n",
       "      <td>tokopedia</td>\n",
       "      <td>positif</td>\n",
       "      <td>buyers jangan ragu ada batal sistem tokopedia ...</td>\n",
       "    </tr>\n",
       "    <tr>\n",
       "      <th>3</th>\n",
       "      <td>3 Juni 2025</td>\n",
       "      <td>4</td>\n",
       "      <td>Keren, ini app skrg bisa jalan lg di hp gw yg ...</td>\n",
       "      <td>tokopedia</td>\n",
       "      <td>positif</td>\n",
       "      <td>keren app skrg jalan lg hp gw yg android kadan...</td>\n",
       "    </tr>\n",
       "    <tr>\n",
       "      <th>4</th>\n",
       "      <td>1 Juni 2025</td>\n",
       "      <td>5</td>\n",
       "      <td>aplikasi yang menyediakan barang² bagus saya s...</td>\n",
       "      <td>tokopedia</td>\n",
       "      <td>positif</td>\n",
       "      <td>aplikasi sedia barang bagus selaku guna tuju s...</td>\n",
       "    </tr>\n",
       "  </tbody>\n",
       "</table>\n",
       "</div>"
      ],
      "text/plain": [
       "          Date  Rating                                             Review  \\\n",
       "0  3 Juni 2025       3  3 juni 2025 ada bug dimana saat menghapus daft...   \n",
       "1  2 Juni 2025       1  Semenjak Tokopedia di bawah naungan Tiktok, ma...   \n",
       "2  3 Juni 2025       5  Buyers jangan ragu adanya pembatalan sistem to...   \n",
       "3  3 Juni 2025       4  Keren, ini app skrg bisa jalan lg di hp gw yg ...   \n",
       "4  1 Juni 2025       5  aplikasi yang menyediakan barang² bagus saya s...   \n",
       "\n",
       "    Platform Sentimen                                       clean_review  \n",
       "0  tokopedia   netral  juni bug hapus daftar barang keranjang langsun...  \n",
       "1  tokopedia  negatif  semenjak tokopedia bawah naung tiktok makin am...  \n",
       "2  tokopedia  positif  buyers jangan ragu ada batal sistem tokopedia ...  \n",
       "3  tokopedia  positif  keren app skrg jalan lg hp gw yg android kadan...  \n",
       "4  tokopedia  positif  aplikasi sedia barang bagus selaku guna tuju s...  "
      ]
     },
     "execution_count": 4,
     "metadata": {},
     "output_type": "execute_result"
    }
   ],
   "source": [
    "olshop.head()"
   ]
  },
  {
   "cell_type": "code",
   "execution_count": null,
   "id": "819f5bff",
   "metadata": {},
   "outputs": [],
   "source": [
    "def load_lexicon_weighted(file_path):\n",
    "    df_lex = pd.read_csv(file_path, sep=\"\\t\")\n",
    "    return dict(zip(df_lex['word'].str.lower(), df_lex['weight']))"
   ]
  },
  {
   "cell_type": "code",
   "execution_count": null,
   "id": "29a0664d",
   "metadata": {},
   "outputs": [],
   "source": [
    "lex_positif = load_lexicon_weighted(\"InSet/positive.tsv\")\n",
    "lex_negatif = load_lexicon_weighted(\"InSet/negative.tsv\")"
   ]
  },
  {
   "cell_type": "code",
   "execution_count": 15,
   "id": "baca4bb4",
   "metadata": {},
   "outputs": [],
   "source": [
    "lexicon = {**lex_positif, **lex_negatif}"
   ]
  },
  {
   "cell_type": "code",
   "execution_count": 42,
   "id": "a0c545fa",
   "metadata": {},
   "outputs": [],
   "source": [
    "def get_sentiment_score(review):\n",
    "    try:\n",
    "        score = sum(lexicon.get(word, 0) for word in review.split())\n",
    "    except Exception as e:\n",
    "        print(f\"Error processing review: {review}\\n{e}\")\n",
    "      \n",
    "    if score > 0:\n",
    "        return 'positif'\n",
    "    elif score < 0:\n",
    "        return 'negatif'\n",
    "    else:\n",
    "        return 'netral'"
   ]
  },
  {
   "cell_type": "code",
   "execution_count": 41,
   "id": "7bad9704",
   "metadata": {},
   "outputs": [
    {
     "data": {
      "text/plain": [
       "0       juni bug hapus daftar barang keranjang langsun...\n",
       "1       semenjak tokopedia bawah naung tiktok makin am...\n",
       "2       buyers jangan ragu ada batal sistem tokopedia ...\n",
       "3       keren app skrg jalan lg hp gw yg android kadan...\n",
       "4       aplikasi sedia barang bagus selaku guna tuju s...\n",
       "                              ...                        \n",
       "7475    alhamdulillah shopee tetep jaga nyaman aman cu...\n",
       "7476    aplikasi shoppe sekarang banyak bug nya masa b...\n",
       "7477    aplikasi nya makin kesini malah makin sering e...\n",
       "7478    si pas masuk shoope langsung shoope video mana...\n",
       "7479    dulu shoppe cukup bagus cepatskrg makin parah ...\n",
       "Name: clean_review, Length: 7480, dtype: object"
      ]
     },
     "execution_count": 41,
     "metadata": {},
     "output_type": "execute_result"
    }
   ],
   "source": [
    "olshop[\"clean_review\"]"
   ]
  },
  {
   "cell_type": "code",
   "execution_count": 49,
   "id": "c96e1602",
   "metadata": {},
   "outputs": [
    {
     "data": {
      "text/plain": [
       "Date            0\n",
       "Rating          0\n",
       "Review          0\n",
       "Platform        0\n",
       "Sentimen        0\n",
       "clean_review    6\n",
       "dtype: int64"
      ]
     },
     "execution_count": 49,
     "metadata": {},
     "output_type": "execute_result"
    }
   ],
   "source": [
    "olshop.isnull().sum()"
   ]
  },
  {
   "cell_type": "code",
   "execution_count": 50,
   "id": "e423a67c",
   "metadata": {},
   "outputs": [],
   "source": [
    "olshop.dropna(subset=['clean_review'], inplace=True)"
   ]
  },
  {
   "cell_type": "code",
   "execution_count": 52,
   "id": "e6daad1a",
   "metadata": {},
   "outputs": [
    {
     "data": {
      "text/plain": [
       "Date            0\n",
       "Rating          0\n",
       "Review          0\n",
       "Platform        0\n",
       "Sentimen        0\n",
       "clean_review    0\n",
       "dtype: int64"
      ]
     },
     "execution_count": 52,
     "metadata": {},
     "output_type": "execute_result"
    }
   ],
   "source": [
    "olshop.isna().sum()"
   ]
  },
  {
   "cell_type": "code",
   "execution_count": 53,
   "id": "2a075f63",
   "metadata": {},
   "outputs": [],
   "source": [
    "olshop[\"sentimen_lexicon\"] = olshop[\"clean_review\"].apply(get_sentiment_score)"
   ]
  },
  {
   "cell_type": "code",
   "execution_count": 67,
   "id": "8960adc7",
   "metadata": {},
   "outputs": [
    {
     "data": {
      "text/plain": [
       "Sentimen\n",
       "negatif    4228\n",
       "netral      685\n",
       "positif    2561\n",
       "Name: clean_review, dtype: int64"
      ]
     },
     "execution_count": 67,
     "metadata": {},
     "output_type": "execute_result"
    }
   ],
   "source": [
    "olshop.groupby(\"Sentimen\")[\"clean_review\"].count()"
   ]
  },
  {
   "cell_type": "code",
   "execution_count": 70,
   "id": "a56a3f6a",
   "metadata": {},
   "outputs": [
    {
     "data": {
      "text/plain": [
       "sentimen_lexicon\n",
       "negatif    6635\n",
       "netral      131\n",
       "positif     708\n",
       "Name: clean_review, dtype: int64"
      ]
     },
     "execution_count": 70,
     "metadata": {},
     "output_type": "execute_result"
    }
   ],
   "source": [
    "olshop.groupby(\"sentimen_lexicon\")[\"clean_review\"].count()"
   ]
  },
  {
   "cell_type": "markdown",
   "id": "8ca972b9",
   "metadata": {},
   "source": [
    "# Feature Extraction"
   ]
  },
  {
   "cell_type": "markdown",
   "id": "77ea08b8",
   "metadata": {},
   "source": [
    "### TD-idf"
   ]
  },
  {
   "cell_type": "code",
   "execution_count": 71,
   "id": "dc26523b",
   "metadata": {},
   "outputs": [],
   "source": [
    "# convert textual data to numerical data\n",
    "from sklearn.feature_extraction.text import TfidfVectorizer\n",
    "\n",
    "vectorizer = TfidfVectorizer(\n",
    "    max_features=5000,\n",
    "    ngram_range=(1,2),\n",
    "    min_df=5,  \n",
    "    max_df=0.9\n",
    ")"
   ]
  },
  {
   "cell_type": "code",
   "execution_count": null,
   "id": "997a00c0",
   "metadata": {},
   "outputs": [],
   "source": [
    "X = vectorizer.fit_transform(olshop['clean_review'])"
   ]
  },
  {
   "cell_type": "code",
   "execution_count": 74,
   "id": "56faec76",
   "metadata": {},
   "outputs": [],
   "source": [
    "y = olshop['sentimen_lexicon']"
   ]
  },
  {
   "cell_type": "code",
   "execution_count": 87,
   "id": "854e42ad",
   "metadata": {},
   "outputs": [
    {
     "name": "stdout",
     "output_type": "stream",
     "text": [
      "sentimen_lexicon\n",
      "negatif    0.887744\n",
      "positif    0.094728\n",
      "netral     0.017527\n",
      "Name: proportion, dtype: float64\n"
     ]
    }
   ],
   "source": [
    "print(olshop['sentimen_lexicon'].value_counts(normalize=True))\n"
   ]
  },
  {
   "cell_type": "markdown",
   "id": "eef01b3a",
   "metadata": {},
   "source": [
    "# Modeling"
   ]
  },
  {
   "cell_type": "markdown",
   "id": "f198d997",
   "metadata": {},
   "source": [
    "## Naive Bayes & Logistic Regression"
   ]
  },
  {
   "cell_type": "code",
   "execution_count": 79,
   "id": "148be053",
   "metadata": {},
   "outputs": [],
   "source": [
    "from sklearn.model_selection import train_test_split\n",
    "from sklearn.naive_bayes import MultinomialNB\n",
    "from sklearn.linear_model import LogisticRegression\n",
    "from sklearn.metrics import classification_report, confusion_matrix\n",
    "import seaborn as sns\n",
    "import matplotlib.pyplot as plt"
   ]
  },
  {
   "cell_type": "code",
   "execution_count": 80,
   "id": "4164abe5",
   "metadata": {},
   "outputs": [],
   "source": [
    "# Split Data\n",
    "X_train, X_test, y_train, y_test = train_test_split(X,y,test_size=0.2, random_state=42, stratify=y)"
   ]
  },
  {
   "cell_type": "markdown",
   "id": "9d9259fe",
   "metadata": {},
   "source": [
    "### Model 1: Naive Bayes"
   ]
  },
  {
   "cell_type": "code",
   "execution_count": 81,
   "id": "edd37139",
   "metadata": {},
   "outputs": [],
   "source": [
    "nb_model = MultinomialNB()\n",
    "nb_model.fit(X_train, y_train)\n",
    "nb_preds = nb_model.predict(X_test)"
   ]
  },
  {
   "cell_type": "code",
   "execution_count": 82,
   "id": "c4511ddb",
   "metadata": {},
   "outputs": [
    {
     "name": "stdout",
     "output_type": "stream",
     "text": [
      "=== Naive Bayes Report ===\n",
      "              precision    recall  f1-score   support\n",
      "\n",
      "     negatif       0.89      1.00      0.94      1327\n",
      "      netral       0.00      0.00      0.00        26\n",
      "     positif       1.00      0.01      0.01       142\n",
      "\n",
      "    accuracy                           0.89      1495\n",
      "   macro avg       0.63      0.34      0.32      1495\n",
      "weighted avg       0.88      0.89      0.84      1495\n",
      "\n"
     ]
    },
    {
     "name": "stderr",
     "output_type": "stream",
     "text": [
      "c:\\Users\\USER\\AppData\\Local\\Programs\\Python\\Python311\\Lib\\site-packages\\sklearn\\metrics\\_classification.py:1469: UndefinedMetricWarning: Precision and F-score are ill-defined and being set to 0.0 in labels with no predicted samples. Use `zero_division` parameter to control this behavior.\n",
      "  _warn_prf(average, modifier, msg_start, len(result))\n",
      "c:\\Users\\USER\\AppData\\Local\\Programs\\Python\\Python311\\Lib\\site-packages\\sklearn\\metrics\\_classification.py:1469: UndefinedMetricWarning: Precision and F-score are ill-defined and being set to 0.0 in labels with no predicted samples. Use `zero_division` parameter to control this behavior.\n",
      "  _warn_prf(average, modifier, msg_start, len(result))\n",
      "c:\\Users\\USER\\AppData\\Local\\Programs\\Python\\Python311\\Lib\\site-packages\\sklearn\\metrics\\_classification.py:1469: UndefinedMetricWarning: Precision and F-score are ill-defined and being set to 0.0 in labels with no predicted samples. Use `zero_division` parameter to control this behavior.\n",
      "  _warn_prf(average, modifier, msg_start, len(result))\n"
     ]
    }
   ],
   "source": [
    "print(\"=== Naive Bayes Report ===\")\n",
    "print(classification_report(y_test, nb_preds))"
   ]
  },
  {
   "cell_type": "markdown",
   "id": "76f884d3",
   "metadata": {},
   "source": [
    "### Model 2: Logistic Regression"
   ]
  },
  {
   "cell_type": "code",
   "execution_count": 83,
   "id": "bc966f5e",
   "metadata": {},
   "outputs": [],
   "source": [
    "lr_model = LogisticRegression(max_iter=1000)\n",
    "lr_model.fit(X_train, y_train)\n",
    "lr_preds = lr_model.predict(X_test)"
   ]
  },
  {
   "cell_type": "code",
   "execution_count": 84,
   "id": "d78e5d47",
   "metadata": {},
   "outputs": [
    {
     "name": "stdout",
     "output_type": "stream",
     "text": [
      "=== Logistic Regression Report ===\n",
      "              precision    recall  f1-score   support\n",
      "\n",
      "     negatif       0.90      1.00      0.95      1327\n",
      "      netral       0.00      0.00      0.00        26\n",
      "     positif       1.00      0.13      0.24       142\n",
      "\n",
      "    accuracy                           0.90      1495\n",
      "   macro avg       0.63      0.38      0.39      1495\n",
      "weighted avg       0.89      0.90      0.86      1495\n",
      "\n"
     ]
    },
    {
     "name": "stderr",
     "output_type": "stream",
     "text": [
      "c:\\Users\\USER\\AppData\\Local\\Programs\\Python\\Python311\\Lib\\site-packages\\sklearn\\metrics\\_classification.py:1469: UndefinedMetricWarning: Precision and F-score are ill-defined and being set to 0.0 in labels with no predicted samples. Use `zero_division` parameter to control this behavior.\n",
      "  _warn_prf(average, modifier, msg_start, len(result))\n",
      "c:\\Users\\USER\\AppData\\Local\\Programs\\Python\\Python311\\Lib\\site-packages\\sklearn\\metrics\\_classification.py:1469: UndefinedMetricWarning: Precision and F-score are ill-defined and being set to 0.0 in labels with no predicted samples. Use `zero_division` parameter to control this behavior.\n",
      "  _warn_prf(average, modifier, msg_start, len(result))\n",
      "c:\\Users\\USER\\AppData\\Local\\Programs\\Python\\Python311\\Lib\\site-packages\\sklearn\\metrics\\_classification.py:1469: UndefinedMetricWarning: Precision and F-score are ill-defined and being set to 0.0 in labels with no predicted samples. Use `zero_division` parameter to control this behavior.\n",
      "  _warn_prf(average, modifier, msg_start, len(result))\n"
     ]
    }
   ],
   "source": [
    "print(\"=== Logistic Regression Report ===\")\n",
    "print(classification_report(y_test, lr_preds))"
   ]
  },
  {
   "cell_type": "code",
   "execution_count": 86,
   "id": "54042685",
   "metadata": {},
   "outputs": [
    {
     "name": "stdout",
     "output_type": "stream",
     "text": [
      "\n",
      "=== alpha=0.0 ===\n",
      "              precision    recall  f1-score   support\n",
      "\n",
      "     negatif       0.89      1.00      0.94      1327\n",
      "      netral       0.00      0.00      0.00        26\n",
      "     positif       0.86      0.04      0.08       142\n",
      "\n",
      "    accuracy                           0.89      1495\n",
      "   macro avg       0.58      0.35      0.34      1495\n",
      "weighted avg       0.87      0.89      0.84      1495\n",
      "\n",
      "\n",
      "=== alpha=0.1 ===\n",
      "              precision    recall  f1-score   support\n",
      "\n",
      "     negatif       0.89      1.00      0.94      1327\n",
      "      netral       0.00      0.00      0.00        26\n",
      "     positif       0.78      0.05      0.09       142\n",
      "\n",
      "    accuracy                           0.89      1495\n",
      "   macro avg       0.56      0.35      0.34      1495\n",
      "weighted avg       0.87      0.89      0.84      1495\n",
      "\n",
      "\n",
      "=== alpha=1.0 ===\n",
      "              precision    recall  f1-score   support\n",
      "\n",
      "     negatif       0.89      1.00      0.94      1327\n",
      "      netral       0.00      0.00      0.00        26\n",
      "     positif       1.00      0.01      0.01       142\n",
      "\n",
      "    accuracy                           0.89      1495\n",
      "   macro avg       0.63      0.34      0.32      1495\n",
      "weighted avg       0.88      0.89      0.84      1495\n",
      "\n"
     ]
    },
    {
     "name": "stderr",
     "output_type": "stream",
     "text": [
      "c:\\Users\\USER\\AppData\\Local\\Programs\\Python\\Python311\\Lib\\site-packages\\sklearn\\naive_bayes.py:624: FutureWarning: The default value for `force_alpha` will change to `True` in 1.4. To suppress this warning, manually set the value of `force_alpha`.\n",
      "  warnings.warn(\n",
      "c:\\Users\\USER\\AppData\\Local\\Programs\\Python\\Python311\\Lib\\site-packages\\sklearn\\naive_bayes.py:633: UserWarning: alpha too small will result in numeric errors, setting alpha = 1.0e-10. Use `force_alpha=True` to keep alpha unchanged.\n",
      "  warnings.warn(\n",
      "c:\\Users\\USER\\AppData\\Local\\Programs\\Python\\Python311\\Lib\\site-packages\\sklearn\\metrics\\_classification.py:1469: UndefinedMetricWarning: Precision and F-score are ill-defined and being set to 0.0 in labels with no predicted samples. Use `zero_division` parameter to control this behavior.\n",
      "  _warn_prf(average, modifier, msg_start, len(result))\n",
      "c:\\Users\\USER\\AppData\\Local\\Programs\\Python\\Python311\\Lib\\site-packages\\sklearn\\metrics\\_classification.py:1469: UndefinedMetricWarning: Precision and F-score are ill-defined and being set to 0.0 in labels with no predicted samples. Use `zero_division` parameter to control this behavior.\n",
      "  _warn_prf(average, modifier, msg_start, len(result))\n",
      "c:\\Users\\USER\\AppData\\Local\\Programs\\Python\\Python311\\Lib\\site-packages\\sklearn\\metrics\\_classification.py:1469: UndefinedMetricWarning: Precision and F-score are ill-defined and being set to 0.0 in labels with no predicted samples. Use `zero_division` parameter to control this behavior.\n",
      "  _warn_prf(average, modifier, msg_start, len(result))\n",
      "c:\\Users\\USER\\AppData\\Local\\Programs\\Python\\Python311\\Lib\\site-packages\\sklearn\\metrics\\_classification.py:1469: UndefinedMetricWarning: Precision and F-score are ill-defined and being set to 0.0 in labels with no predicted samples. Use `zero_division` parameter to control this behavior.\n",
      "  _warn_prf(average, modifier, msg_start, len(result))\n",
      "c:\\Users\\USER\\AppData\\Local\\Programs\\Python\\Python311\\Lib\\site-packages\\sklearn\\metrics\\_classification.py:1469: UndefinedMetricWarning: Precision and F-score are ill-defined and being set to 0.0 in labels with no predicted samples. Use `zero_division` parameter to control this behavior.\n",
      "  _warn_prf(average, modifier, msg_start, len(result))\n",
      "c:\\Users\\USER\\AppData\\Local\\Programs\\Python\\Python311\\Lib\\site-packages\\sklearn\\metrics\\_classification.py:1469: UndefinedMetricWarning: Precision and F-score are ill-defined and being set to 0.0 in labels with no predicted samples. Use `zero_division` parameter to control this behavior.\n",
      "  _warn_prf(average, modifier, msg_start, len(result))\n",
      "c:\\Users\\USER\\AppData\\Local\\Programs\\Python\\Python311\\Lib\\site-packages\\sklearn\\metrics\\_classification.py:1469: UndefinedMetricWarning: Precision and F-score are ill-defined and being set to 0.0 in labels with no predicted samples. Use `zero_division` parameter to control this behavior.\n",
      "  _warn_prf(average, modifier, msg_start, len(result))\n",
      "c:\\Users\\USER\\AppData\\Local\\Programs\\Python\\Python311\\Lib\\site-packages\\sklearn\\metrics\\_classification.py:1469: UndefinedMetricWarning: Precision and F-score are ill-defined and being set to 0.0 in labels with no predicted samples. Use `zero_division` parameter to control this behavior.\n",
      "  _warn_prf(average, modifier, msg_start, len(result))\n",
      "c:\\Users\\USER\\AppData\\Local\\Programs\\Python\\Python311\\Lib\\site-packages\\sklearn\\metrics\\_classification.py:1469: UndefinedMetricWarning: Precision and F-score are ill-defined and being set to 0.0 in labels with no predicted samples. Use `zero_division` parameter to control this behavior.\n",
      "  _warn_prf(average, modifier, msg_start, len(result))\n"
     ]
    }
   ],
   "source": [
    "for a in [0.0, 0.1, 1.0]:\n",
    "    model = MultinomialNB(alpha=a)\n",
    "    model.fit(X_train, y_train)\n",
    "    preds = model.predict(X_test)\n",
    "    print(f\"\\n=== alpha={a} ===\")\n",
    "    print(classification_report(y_test, preds))\n"
   ]
  },
  {
   "cell_type": "code",
   "execution_count": 91,
   "id": "ad3cb9c4",
   "metadata": {},
   "outputs": [
    {
     "name": "stdout",
     "output_type": "stream",
     "text": [
      "Sentimen ulasan: negatif\n"
     ]
    }
   ],
   "source": [
    "textInput = input(\"Masukkan teks ulasan: \")\n",
    "def predict_sentiment(text):\n",
    "    text_cleaned = clean_text(text)\n",
    "    text_vectorized = vectorizer.transform([text_cleaned])\n",
    "    sentiment = lr_model.predict(text_vectorized)[0]\n",
    "    return sentiment\n",
    "\n",
    "sentiment = predict_sentiment(textInput)\n",
    "print(f\"Sentimen ulasan: {sentiment}\")"
   ]
  }
 ],
 "metadata": {
  "kernelspec": {
   "display_name": "Python 3",
   "language": "python",
   "name": "python3"
  },
  "language_info": {
   "codemirror_mode": {
    "name": "ipython",
    "version": 3
   },
   "file_extension": ".py",
   "mimetype": "text/x-python",
   "name": "python",
   "nbconvert_exporter": "python",
   "pygments_lexer": "ipython3",
   "version": "3.11.4"
  }
 },
 "nbformat": 4,
 "nbformat_minor": 5
}
